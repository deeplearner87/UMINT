{
 "cells": [
  {
   "cell_type": "code",
   "execution_count": 1,
   "metadata": {},
   "outputs": [],
   "source": [
    "import numpy as np\n",
    "import pandas as pd\n",
    "from sklearn.cluster import AgglomerativeClustering\n",
    "from sklearn.metrics import adjusted_rand_score, adjusted_mutual_info_score, fowlkes_mallows_score, jaccard_score"
   ]
  },
  {
   "cell_type": "code",
   "execution_count": 2,
   "metadata": {},
   "outputs": [],
   "source": [
    "dir = 'E:/UMINTv2/Data/preprocessedData/pbmc10k_MALT/'\n",
    "dir1 = 'E:/UMINTv2/'"
   ]
  },
  {
   "cell_type": "code",
   "execution_count": 3,
   "metadata": {},
   "outputs": [],
   "source": [
    "#Importing raw data\n",
    "rna = pd.read_csv(dir+'pbmc10k_MALT_rna_scaled.csv',header = 0, index_col= 0)\n",
    "adt = pd.read_csv(dir+'pbmc10k_MALT_adt_scaled.csv',header = 0, index_col= 0)\n",
    "\n",
    "x1 = rna.T\n",
    "x2 = adt.T\n",
    "\n",
    "z = pd.concat([x1, x2], axis=1)"
   ]
  },
  {
   "cell_type": "code",
   "execution_count": 4,
   "metadata": {},
   "outputs": [],
   "source": [
    "labels = pd.read_csv(dir1+'Labels/pbmc10k_MALT/pbmc10k_MALT_groundTruth.csv',header = 0 , index_col= 0)\n",
    "seuratLabels = pd.read_csv(dir1+'Labels/pbmc10k_MALT/pbmc10k_MALT_labels_Seurat.csv',header = 0 , index_col= 0)\n",
    "mofa2embedding = pd.read_csv(dir1+'Data/Embedding/pbmc10k_MALT_MOFA2_embedding.csv',header = 0 , index_col= 0)\n",
    "totalVILabels = pd.read_csv(dir1+'Labels/pbmc10k_MALT/pbmc10k_MALT_labels_totalVI.csv',header = 0 , index_col= 0)"
   ]
  },
  {
   "cell_type": "markdown",
   "metadata": {},
   "source": [
    "Encoding labels"
   ]
  },
  {
   "cell_type": "code",
   "execution_count": 5,
   "metadata": {},
   "outputs": [],
   "source": [
    "from sklearn import preprocessing\n",
    "le = preprocessing.LabelEncoder()\n",
    "y = pd.DataFrame(le.fit_transform(np.ravel(labels)))"
   ]
  },
  {
   "cell_type": "code",
   "execution_count": 6,
   "metadata": {},
   "outputs": [],
   "source": [
    "num_clusters = len(np.unique(y))"
   ]
  },
  {
   "cell_type": "code",
   "execution_count": 7,
   "metadata": {},
   "outputs": [],
   "source": [
    "result={}"
   ]
  },
  {
   "cell_type": "markdown",
   "metadata": {},
   "source": [
    "**Seurat**"
   ]
  },
  {
   "cell_type": "code",
   "execution_count": 8,
   "metadata": {},
   "outputs": [],
   "source": [
    "l=[]\n",
    "l.append(adjusted_rand_score(y[0], seuratLabels['seurat_clusters']))\n",
    "l.append(fowlkes_mallows_score(y[0], seuratLabels['seurat_clusters']))\n",
    "result['Seurat']=l"
   ]
  },
  {
   "cell_type": "markdown",
   "metadata": {},
   "source": [
    "**MOFA+**"
   ]
  },
  {
   "cell_type": "code",
   "execution_count": 9,
   "metadata": {},
   "outputs": [],
   "source": [
    "labels_mofa2 = AgglomerativeClustering(n_clusters= num_clusters).fit_predict(mofa2embedding)"
   ]
  },
  {
   "cell_type": "code",
   "execution_count": 10,
   "metadata": {
    "scrolled": true
   },
   "outputs": [],
   "source": [
    "l=[]\n",
    "l.append(adjusted_rand_score(y[0], labels_mofa2))\n",
    "l.append(fowlkes_mallows_score(y[0], labels_mofa2))\n",
    "result['MOFA2']=l"
   ]
  },
  {
   "cell_type": "markdown",
   "metadata": {},
   "source": [
    "**TotalVI**"
   ]
  },
  {
   "cell_type": "code",
   "execution_count": 11,
   "metadata": {},
   "outputs": [],
   "source": [
    "totalVILabels = totalVILabels['leiden_totalVI']"
   ]
  },
  {
   "cell_type": "code",
   "execution_count": 12,
   "metadata": {},
   "outputs": [],
   "source": [
    "l=[]\n",
    "l.append(adjusted_rand_score(y[0], totalVILabels))\n",
    "l.append(fowlkes_mallows_score(y[0], totalVILabels))\n",
    "result['TotalVI']=l"
   ]
  },
  {
   "cell_type": "markdown",
   "metadata": {},
   "source": [
    "Exporting results"
   ]
  },
  {
   "cell_type": "code",
   "execution_count": 13,
   "metadata": {},
   "outputs": [
    {
     "data": {
      "text/html": [
       "<div>\n",
       "<style scoped>\n",
       "    .dataframe tbody tr th:only-of-type {\n",
       "        vertical-align: middle;\n",
       "    }\n",
       "\n",
       "    .dataframe tbody tr th {\n",
       "        vertical-align: top;\n",
       "    }\n",
       "\n",
       "    .dataframe thead th {\n",
       "        text-align: right;\n",
       "    }\n",
       "</style>\n",
       "<table border=\"1\" class=\"dataframe\">\n",
       "  <thead>\n",
       "    <tr style=\"text-align: right;\">\n",
       "      <th></th>\n",
       "      <th>ARI</th>\n",
       "      <th>FMI</th>\n",
       "    </tr>\n",
       "  </thead>\n",
       "  <tbody>\n",
       "    <tr>\n",
       "      <th>Seurat</th>\n",
       "      <td>0.448348</td>\n",
       "      <td>0.526503</td>\n",
       "    </tr>\n",
       "    <tr>\n",
       "      <th>MOFA2</th>\n",
       "      <td>0.264241</td>\n",
       "      <td>0.520598</td>\n",
       "    </tr>\n",
       "    <tr>\n",
       "      <th>TotalVI</th>\n",
       "      <td>0.458741</td>\n",
       "      <td>0.533776</td>\n",
       "    </tr>\n",
       "  </tbody>\n",
       "</table>\n",
       "</div>"
      ],
      "text/plain": [
       "              ARI       FMI\n",
       "Seurat   0.448348  0.526503\n",
       "MOFA2    0.264241  0.520598\n",
       "TotalVI  0.458741  0.533776"
      ]
     },
     "execution_count": 13,
     "metadata": {},
     "output_type": "execute_result"
    }
   ],
   "source": [
    "res= pd.DataFrame(result)\n",
    "res=res.T\n",
    "res.columns = ['ARI','FMI']\n",
    "res"
   ]
  },
  {
   "cell_type": "code",
   "execution_count": 14,
   "metadata": {},
   "outputs": [],
   "source": [
    "res.to_csv(dir1+'Results/pbmc10k_MALT/pbmc10k_MALT_comparativeAnalysis_hiearchical.csv')"
   ]
  }
 ],
 "metadata": {
  "kernelspec": {
   "display_name": "Python 3 (ipykernel)",
   "language": "python",
   "name": "python3"
  },
  "language_info": {
   "codemirror_mode": {
    "name": "ipython",
    "version": 3
   },
   "file_extension": ".py",
   "mimetype": "text/x-python",
   "name": "python",
   "nbconvert_exporter": "python",
   "pygments_lexer": "ipython3",
   "version": "3.10.1"
  }
 },
 "nbformat": 4,
 "nbformat_minor": 4
}
