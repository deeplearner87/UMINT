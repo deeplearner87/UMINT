{
 "cells": [
  {
   "cell_type": "markdown",
   "metadata": {},
   "source": [
    "Seeding the environment"
   ]
  },
  {
   "cell_type": "code",
   "execution_count": 1,
   "metadata": {},
   "outputs": [],
   "source": [
    "import os\n",
    "os.environ['TF_CPP_MIN_LOG_LEVEL']='2'"
   ]
  },
  {
   "cell_type": "code",
   "execution_count": 2,
   "metadata": {},
   "outputs": [
    {
     "name": "stdout",
     "output_type": "stream",
     "text": [
      "WARNING:tensorflow:From /tmp/ipykernel_5558/3585742813.py:18: The name tf.keras.backend.set_session is deprecated. Please use tf.compat.v1.keras.backend.set_session instead.\n",
      "\n"
     ]
    }
   ],
   "source": [
    "# Set seed value\n",
    "seed_value = 56\n",
    "import os\n",
    "os.environ['PYTHONHASHSEED']=str(seed_value)\n",
    "# 2. Set `python` built-in pseudo-random generator at a fixed value\n",
    "import random\n",
    "random.seed(seed_value)\n",
    "# 3. Set `numpy` pseudo-random generator at a fixed value\n",
    "import numpy as np\n",
    "np.random.seed(seed_value)\n",
    "# 4. Set `tensorflow` pseudo-random generator at a fixed value\n",
    "import tensorflow as tf\n",
    "tf.random.set_seed(seed_value)\n",
    "# 5. Configure a new global `tensorflow` session\n",
    "from keras import backend as K\n",
    "session_conf = tf.compat.v1.ConfigProto(intra_op_parallelism_threads=1, inter_op_parallelism_threads=1)\n",
    "sess = tf.compat.v1.Session(graph=tf.compat.v1.get_default_graph(), config=session_conf)\n",
    "tf.compat.v1.keras.backend.set_session(sess)"
   ]
  },
  {
   "cell_type": "markdown",
   "metadata": {
    "id": "W4HJ42zDZYwN"
   },
   "source": [
    "# Libraries"
   ]
  },
  {
   "cell_type": "code",
   "execution_count": 3,
   "metadata": {
    "id": "-LInIy6WI1Ii"
   },
   "outputs": [
    {
     "name": "stderr",
     "output_type": "stream",
     "text": [
      "/home/chayan/anaconda3/envs/umint/lib/python3.7/site-packages/tqdm/auto.py:22: TqdmWarning: IProgress not found. Please update jupyter and ipywidgets. See https://ipywidgets.readthedocs.io/en/stable/user_install.html\n",
      "  from .autonotebook import tqdm as notebook_tqdm\n"
     ]
    }
   ],
   "source": [
    "import umint\n",
    "import random\n",
    "import pandas as pd\n",
    "import umap.umap_ as umap\n",
    "import matplotlib.pyplot as plt\n",
    "from sklearn import preprocessing\n",
    "from scipy.stats import spearmanr, pearsonr\n",
    "from matplotlib.colors import ListedColormap\n",
    "from sklearn.model_selection import train_test_split\n",
    "from sklearn.metrics.pairwise import euclidean_distances\n",
    "from sklearn.cluster import AgglomerativeClustering, KMeans\n",
    "from sklearn.metrics import adjusted_rand_score, fowlkes_mallows_score"
   ]
  },
  {
   "cell_type": "markdown",
   "metadata": {
    "id": "XvtB4lwqkOz6"
   },
   "source": [
    "# Importing Data"
   ]
  },
  {
   "cell_type": "code",
   "execution_count": 4,
   "metadata": {
    "id": "Y3lF5HjwaFzh"
   },
   "outputs": [],
   "source": [
    "dir = '/home/chayan/UMINT/pbmc10k/preprocessed_hvg/'\n",
    "rna = pd.read_csv(dir+'pbmc10k_rna_hvg_matched_cells.csv',header = 0 , index_col= 0)\n",
    "atac = pd.read_csv(dir+'pbmc10k_atac_hvg_matched_cells.csv',header = 0 , index_col= 0)\n",
    "\n",
    "rna_labels = pd.read_csv(dir+'pbmc10k_groundTruth_rna.csv',header = 0 , index_col= 0)\n",
    "atac_labels = pd.read_csv(dir+'pbmc10k_groundTruth_atac.csv',header = 0 , index_col= 0)\n",
    "\n",
    "x1 = rna\n",
    "x2 = atac\n",
    "y1 = rna_labels\n",
    "y2 = atac_labels\n",
    "\n",
    "z = pd.concat([x1, x2], axis=1)"
   ]
  },
  {
   "cell_type": "code",
   "execution_count": 5,
   "metadata": {},
   "outputs": [
    {
     "data": {
      "text/html": [
       "<div>\n",
       "<style scoped>\n",
       "    .dataframe tbody tr th:only-of-type {\n",
       "        vertical-align: middle;\n",
       "    }\n",
       "\n",
       "    .dataframe tbody tr th {\n",
       "        vertical-align: top;\n",
       "    }\n",
       "\n",
       "    .dataframe thead th {\n",
       "        text-align: right;\n",
       "    }\n",
       "</style>\n",
       "<table border=\"1\" class=\"dataframe\">\n",
       "  <thead>\n",
       "    <tr style=\"text-align: right;\">\n",
       "      <th></th>\n",
       "      <th>0</th>\n",
       "      <th>1</th>\n",
       "      <th>2</th>\n",
       "      <th>3</th>\n",
       "      <th>4</th>\n",
       "      <th>5</th>\n",
       "      <th>6</th>\n",
       "      <th>7</th>\n",
       "      <th>8</th>\n",
       "      <th>9</th>\n",
       "      <th>...</th>\n",
       "      <th>3016</th>\n",
       "      <th>3017</th>\n",
       "      <th>3018</th>\n",
       "      <th>3019</th>\n",
       "      <th>3020</th>\n",
       "      <th>3021</th>\n",
       "      <th>3022</th>\n",
       "      <th>3023</th>\n",
       "      <th>3024</th>\n",
       "      <th>3025</th>\n",
       "    </tr>\n",
       "  </thead>\n",
       "  <tbody>\n",
       "    <tr>\n",
       "      <th>AAACAGCCAATCCCTT-1</th>\n",
       "      <td>1.102886</td>\n",
       "      <td>3.370006</td>\n",
       "      <td>-0.162348</td>\n",
       "      <td>-0.16983</td>\n",
       "      <td>-0.343675</td>\n",
       "      <td>-0.095876</td>\n",
       "      <td>-0.08732</td>\n",
       "      <td>-0.358511</td>\n",
       "      <td>-0.237459</td>\n",
       "      <td>-0.246285</td>\n",
       "      <td>...</td>\n",
       "      <td>-0.122628</td>\n",
       "      <td>-0.074108</td>\n",
       "      <td>-0.122223</td>\n",
       "      <td>-0.345077</td>\n",
       "      <td>-0.123245</td>\n",
       "      <td>-0.158037</td>\n",
       "      <td>-0.08455</td>\n",
       "      <td>-0.011314</td>\n",
       "      <td>-0.106943</td>\n",
       "      <td>-0.172993</td>\n",
       "    </tr>\n",
       "    <tr>\n",
       "      <th>AAACAGCCAATGCGCT-1</th>\n",
       "      <td>0.560188</td>\n",
       "      <td>-0.274663</td>\n",
       "      <td>-0.162348</td>\n",
       "      <td>-0.16983</td>\n",
       "      <td>-0.343675</td>\n",
       "      <td>-0.095876</td>\n",
       "      <td>-0.08732</td>\n",
       "      <td>-0.358511</td>\n",
       "      <td>-0.237459</td>\n",
       "      <td>-0.246285</td>\n",
       "      <td>...</td>\n",
       "      <td>-0.122628</td>\n",
       "      <td>-0.074108</td>\n",
       "      <td>-0.122223</td>\n",
       "      <td>-0.345077</td>\n",
       "      <td>-0.123245</td>\n",
       "      <td>-0.158037</td>\n",
       "      <td>-0.08455</td>\n",
       "      <td>0.612131</td>\n",
       "      <td>-0.106943</td>\n",
       "      <td>-0.172993</td>\n",
       "    </tr>\n",
       "    <tr>\n",
       "      <th>AAACAGCCAGGATAAC-1</th>\n",
       "      <td>-0.665826</td>\n",
       "      <td>-0.274663</td>\n",
       "      <td>-0.162348</td>\n",
       "      <td>-0.16983</td>\n",
       "      <td>-0.343675</td>\n",
       "      <td>-0.095876</td>\n",
       "      <td>-0.08732</td>\n",
       "      <td>-0.358511</td>\n",
       "      <td>-0.237459</td>\n",
       "      <td>-0.246285</td>\n",
       "      <td>...</td>\n",
       "      <td>-0.122628</td>\n",
       "      <td>-0.074108</td>\n",
       "      <td>-0.122223</td>\n",
       "      <td>-0.345077</td>\n",
       "      <td>-0.123245</td>\n",
       "      <td>-0.158037</td>\n",
       "      <td>-0.08455</td>\n",
       "      <td>0.774370</td>\n",
       "      <td>-0.106943</td>\n",
       "      <td>-0.172993</td>\n",
       "    </tr>\n",
       "    <tr>\n",
       "      <th>AAACAGCCAGTAGGTG-1</th>\n",
       "      <td>-0.665826</td>\n",
       "      <td>-0.274663</td>\n",
       "      <td>-0.162348</td>\n",
       "      <td>-0.16983</td>\n",
       "      <td>1.682746</td>\n",
       "      <td>-0.095876</td>\n",
       "      <td>10.00000</td>\n",
       "      <td>-0.358511</td>\n",
       "      <td>-0.237459</td>\n",
       "      <td>2.051676</td>\n",
       "      <td>...</td>\n",
       "      <td>-0.122628</td>\n",
       "      <td>-0.074108</td>\n",
       "      <td>-0.122223</td>\n",
       "      <td>-0.345077</td>\n",
       "      <td>-0.123245</td>\n",
       "      <td>-0.158037</td>\n",
       "      <td>-0.08455</td>\n",
       "      <td>0.566524</td>\n",
       "      <td>-0.106943</td>\n",
       "      <td>-0.172993</td>\n",
       "    </tr>\n",
       "    <tr>\n",
       "      <th>AAACAGCCAGTTTACG-1</th>\n",
       "      <td>1.139774</td>\n",
       "      <td>-0.274663</td>\n",
       "      <td>-0.162348</td>\n",
       "      <td>-0.16983</td>\n",
       "      <td>-0.343675</td>\n",
       "      <td>-0.095876</td>\n",
       "      <td>-0.08732</td>\n",
       "      <td>-0.358511</td>\n",
       "      <td>-0.237459</td>\n",
       "      <td>-0.246285</td>\n",
       "      <td>...</td>\n",
       "      <td>-0.122628</td>\n",
       "      <td>-0.074108</td>\n",
       "      <td>-0.122223</td>\n",
       "      <td>-0.345077</td>\n",
       "      <td>-0.123245</td>\n",
       "      <td>-0.158037</td>\n",
       "      <td>-0.08455</td>\n",
       "      <td>1.266671</td>\n",
       "      <td>-0.106943</td>\n",
       "      <td>-0.172993</td>\n",
       "    </tr>\n",
       "  </tbody>\n",
       "</table>\n",
       "<p>5 rows × 3026 columns</p>\n",
       "</div>"
      ],
      "text/plain": [
       "                           0         1         2        3         4         5  \\\n",
       "AAACAGCCAATCCCTT-1  1.102886  3.370006 -0.162348 -0.16983 -0.343675 -0.095876   \n",
       "AAACAGCCAATGCGCT-1  0.560188 -0.274663 -0.162348 -0.16983 -0.343675 -0.095876   \n",
       "AAACAGCCAGGATAAC-1 -0.665826 -0.274663 -0.162348 -0.16983 -0.343675 -0.095876   \n",
       "AAACAGCCAGTAGGTG-1 -0.665826 -0.274663 -0.162348 -0.16983  1.682746 -0.095876   \n",
       "AAACAGCCAGTTTACG-1  1.139774 -0.274663 -0.162348 -0.16983 -0.343675 -0.095876   \n",
       "\n",
       "                           6         7         8         9  ...      3016  \\\n",
       "AAACAGCCAATCCCTT-1  -0.08732 -0.358511 -0.237459 -0.246285  ... -0.122628   \n",
       "AAACAGCCAATGCGCT-1  -0.08732 -0.358511 -0.237459 -0.246285  ... -0.122628   \n",
       "AAACAGCCAGGATAAC-1  -0.08732 -0.358511 -0.237459 -0.246285  ... -0.122628   \n",
       "AAACAGCCAGTAGGTG-1  10.00000 -0.358511 -0.237459  2.051676  ... -0.122628   \n",
       "AAACAGCCAGTTTACG-1  -0.08732 -0.358511 -0.237459 -0.246285  ... -0.122628   \n",
       "\n",
       "                        3017      3018      3019      3020      3021     3022  \\\n",
       "AAACAGCCAATCCCTT-1 -0.074108 -0.122223 -0.345077 -0.123245 -0.158037 -0.08455   \n",
       "AAACAGCCAATGCGCT-1 -0.074108 -0.122223 -0.345077 -0.123245 -0.158037 -0.08455   \n",
       "AAACAGCCAGGATAAC-1 -0.074108 -0.122223 -0.345077 -0.123245 -0.158037 -0.08455   \n",
       "AAACAGCCAGTAGGTG-1 -0.074108 -0.122223 -0.345077 -0.123245 -0.158037 -0.08455   \n",
       "AAACAGCCAGTTTACG-1 -0.074108 -0.122223 -0.345077 -0.123245 -0.158037 -0.08455   \n",
       "\n",
       "                        3023      3024      3025  \n",
       "AAACAGCCAATCCCTT-1 -0.011314 -0.106943 -0.172993  \n",
       "AAACAGCCAATGCGCT-1  0.612131 -0.106943 -0.172993  \n",
       "AAACAGCCAGGATAAC-1  0.774370 -0.106943 -0.172993  \n",
       "AAACAGCCAGTAGGTG-1  0.566524 -0.106943 -0.172993  \n",
       "AAACAGCCAGTTTACG-1  1.266671 -0.106943 -0.172993  \n",
       "\n",
       "[5 rows x 3026 columns]"
      ]
     },
     "execution_count": 5,
     "metadata": {},
     "output_type": "execute_result"
    }
   ],
   "source": [
    "x1.head()"
   ]
  },
  {
   "cell_type": "code",
   "execution_count": 6,
   "metadata": {
    "id": "MbZDzkzGwTuf"
   },
   "outputs": [
    {
     "data": {
      "text/html": [
       "<div>\n",
       "<style scoped>\n",
       "    .dataframe tbody tr th:only-of-type {\n",
       "        vertical-align: middle;\n",
       "    }\n",
       "\n",
       "    .dataframe tbody tr th {\n",
       "        vertical-align: top;\n",
       "    }\n",
       "\n",
       "    .dataframe thead th {\n",
       "        text-align: right;\n",
       "    }\n",
       "</style>\n",
       "<table border=\"1\" class=\"dataframe\">\n",
       "  <thead>\n",
       "    <tr style=\"text-align: right;\">\n",
       "      <th></th>\n",
       "      <th>0</th>\n",
       "      <th>1</th>\n",
       "      <th>2</th>\n",
       "      <th>3</th>\n",
       "      <th>4</th>\n",
       "      <th>5</th>\n",
       "      <th>6</th>\n",
       "      <th>7</th>\n",
       "      <th>8</th>\n",
       "      <th>9</th>\n",
       "      <th>...</th>\n",
       "      <th>19420</th>\n",
       "      <th>19421</th>\n",
       "      <th>19422</th>\n",
       "      <th>19423</th>\n",
       "      <th>19424</th>\n",
       "      <th>19425</th>\n",
       "      <th>19426</th>\n",
       "      <th>19427</th>\n",
       "      <th>19428</th>\n",
       "      <th>19429</th>\n",
       "    </tr>\n",
       "  </thead>\n",
       "  <tbody>\n",
       "    <tr>\n",
       "      <th>AAACAGCCAATCCCTT-1</th>\n",
       "      <td>-0.168695</td>\n",
       "      <td>1.914308</td>\n",
       "      <td>-0.206382</td>\n",
       "      <td>-0.158</td>\n",
       "      <td>-0.141946</td>\n",
       "      <td>-0.261559</td>\n",
       "      <td>-0.223269</td>\n",
       "      <td>-0.154675</td>\n",
       "      <td>-0.332080</td>\n",
       "      <td>0.709562</td>\n",
       "      <td>...</td>\n",
       "      <td>-0.295279</td>\n",
       "      <td>-0.178485</td>\n",
       "      <td>-0.126761</td>\n",
       "      <td>-0.284094</td>\n",
       "      <td>3.172661</td>\n",
       "      <td>-0.117172</td>\n",
       "      <td>0.812724</td>\n",
       "      <td>-0.118194</td>\n",
       "      <td>-0.147035</td>\n",
       "      <td>-0.167044</td>\n",
       "    </tr>\n",
       "    <tr>\n",
       "      <th>AAACAGCCAATGCGCT-1</th>\n",
       "      <td>-0.168695</td>\n",
       "      <td>1.258737</td>\n",
       "      <td>-0.206382</td>\n",
       "      <td>-0.158</td>\n",
       "      <td>-0.141946</td>\n",
       "      <td>-0.261559</td>\n",
       "      <td>-0.223269</td>\n",
       "      <td>-0.154675</td>\n",
       "      <td>2.679726</td>\n",
       "      <td>-0.884087</td>\n",
       "      <td>...</td>\n",
       "      <td>-0.295279</td>\n",
       "      <td>-0.178485</td>\n",
       "      <td>-0.126761</td>\n",
       "      <td>-0.284094</td>\n",
       "      <td>-0.281919</td>\n",
       "      <td>-0.117172</td>\n",
       "      <td>-0.845831</td>\n",
       "      <td>-0.118194</td>\n",
       "      <td>-0.147035</td>\n",
       "      <td>-0.167044</td>\n",
       "    </tr>\n",
       "    <tr>\n",
       "      <th>AAACAGCCAGGATAAC-1</th>\n",
       "      <td>-0.168695</td>\n",
       "      <td>-0.709808</td>\n",
       "      <td>-0.206382</td>\n",
       "      <td>-0.158</td>\n",
       "      <td>-0.141946</td>\n",
       "      <td>-0.261559</td>\n",
       "      <td>-0.223269</td>\n",
       "      <td>-0.154675</td>\n",
       "      <td>-0.332080</td>\n",
       "      <td>-0.884087</td>\n",
       "      <td>...</td>\n",
       "      <td>-0.295279</td>\n",
       "      <td>-0.178485</td>\n",
       "      <td>-0.126761</td>\n",
       "      <td>-0.284094</td>\n",
       "      <td>-0.281919</td>\n",
       "      <td>-0.117172</td>\n",
       "      <td>-0.845831</td>\n",
       "      <td>-0.118194</td>\n",
       "      <td>-0.147035</td>\n",
       "      <td>-0.167044</td>\n",
       "    </tr>\n",
       "    <tr>\n",
       "      <th>AAACAGCCAGTAGGTG-1</th>\n",
       "      <td>-0.168695</td>\n",
       "      <td>0.386950</td>\n",
       "      <td>-0.206382</td>\n",
       "      <td>-0.158</td>\n",
       "      <td>-0.141946</td>\n",
       "      <td>-0.261559</td>\n",
       "      <td>-0.223269</td>\n",
       "      <td>-0.154675</td>\n",
       "      <td>1.489172</td>\n",
       "      <td>0.543075</td>\n",
       "      <td>...</td>\n",
       "      <td>-0.295279</td>\n",
       "      <td>-0.178485</td>\n",
       "      <td>-0.126761</td>\n",
       "      <td>-0.284094</td>\n",
       "      <td>-0.281919</td>\n",
       "      <td>-0.117172</td>\n",
       "      <td>1.008836</td>\n",
       "      <td>-0.118194</td>\n",
       "      <td>-0.147035</td>\n",
       "      <td>-0.167044</td>\n",
       "    </tr>\n",
       "    <tr>\n",
       "      <th>AAACAGCCAGTTTACG-1</th>\n",
       "      <td>-0.168695</td>\n",
       "      <td>1.108218</td>\n",
       "      <td>-0.206382</td>\n",
       "      <td>-0.158</td>\n",
       "      <td>-0.141946</td>\n",
       "      <td>-0.261559</td>\n",
       "      <td>-0.223269</td>\n",
       "      <td>-0.154675</td>\n",
       "      <td>2.484665</td>\n",
       "      <td>0.653973</td>\n",
       "      <td>...</td>\n",
       "      <td>-0.295279</td>\n",
       "      <td>-0.178485</td>\n",
       "      <td>-0.126761</td>\n",
       "      <td>-0.284094</td>\n",
       "      <td>-0.281919</td>\n",
       "      <td>-0.117172</td>\n",
       "      <td>1.439804</td>\n",
       "      <td>-0.118194</td>\n",
       "      <td>-0.147035</td>\n",
       "      <td>-0.167044</td>\n",
       "    </tr>\n",
       "  </tbody>\n",
       "</table>\n",
       "<p>5 rows × 19430 columns</p>\n",
       "</div>"
      ],
      "text/plain": [
       "                           0         1         2      3         4         5  \\\n",
       "AAACAGCCAATCCCTT-1 -0.168695  1.914308 -0.206382 -0.158 -0.141946 -0.261559   \n",
       "AAACAGCCAATGCGCT-1 -0.168695  1.258737 -0.206382 -0.158 -0.141946 -0.261559   \n",
       "AAACAGCCAGGATAAC-1 -0.168695 -0.709808 -0.206382 -0.158 -0.141946 -0.261559   \n",
       "AAACAGCCAGTAGGTG-1 -0.168695  0.386950 -0.206382 -0.158 -0.141946 -0.261559   \n",
       "AAACAGCCAGTTTACG-1 -0.168695  1.108218 -0.206382 -0.158 -0.141946 -0.261559   \n",
       "\n",
       "                           6         7         8         9  ...     19420  \\\n",
       "AAACAGCCAATCCCTT-1 -0.223269 -0.154675 -0.332080  0.709562  ... -0.295279   \n",
       "AAACAGCCAATGCGCT-1 -0.223269 -0.154675  2.679726 -0.884087  ... -0.295279   \n",
       "AAACAGCCAGGATAAC-1 -0.223269 -0.154675 -0.332080 -0.884087  ... -0.295279   \n",
       "AAACAGCCAGTAGGTG-1 -0.223269 -0.154675  1.489172  0.543075  ... -0.295279   \n",
       "AAACAGCCAGTTTACG-1 -0.223269 -0.154675  2.484665  0.653973  ... -0.295279   \n",
       "\n",
       "                       19421     19422     19423     19424     19425  \\\n",
       "AAACAGCCAATCCCTT-1 -0.178485 -0.126761 -0.284094  3.172661 -0.117172   \n",
       "AAACAGCCAATGCGCT-1 -0.178485 -0.126761 -0.284094 -0.281919 -0.117172   \n",
       "AAACAGCCAGGATAAC-1 -0.178485 -0.126761 -0.284094 -0.281919 -0.117172   \n",
       "AAACAGCCAGTAGGTG-1 -0.178485 -0.126761 -0.284094 -0.281919 -0.117172   \n",
       "AAACAGCCAGTTTACG-1 -0.178485 -0.126761 -0.284094 -0.281919 -0.117172   \n",
       "\n",
       "                       19426     19427     19428     19429  \n",
       "AAACAGCCAATCCCTT-1  0.812724 -0.118194 -0.147035 -0.167044  \n",
       "AAACAGCCAATGCGCT-1 -0.845831 -0.118194 -0.147035 -0.167044  \n",
       "AAACAGCCAGGATAAC-1 -0.845831 -0.118194 -0.147035 -0.167044  \n",
       "AAACAGCCAGTAGGTG-1  1.008836 -0.118194 -0.147035 -0.167044  \n",
       "AAACAGCCAGTTTACG-1  1.439804 -0.118194 -0.147035 -0.167044  \n",
       "\n",
       "[5 rows x 19430 columns]"
      ]
     },
     "execution_count": 6,
     "metadata": {},
     "output_type": "execute_result"
    }
   ],
   "source": [
    "x2.head()"
   ]
  },
  {
   "cell_type": "code",
   "execution_count": 7,
   "metadata": {},
   "outputs": [],
   "source": [
    "le = preprocessing.LabelEncoder()\n",
    "y1 = pd.DataFrame(le.fit_transform(np.ravel(rna_labels)))\n",
    "y2 = pd.DataFrame(le.fit_transform(np.ravel(atac_labels)))"
   ]
  },
  {
   "cell_type": "code",
   "execution_count": 8,
   "metadata": {},
   "outputs": [
    {
     "data": {
      "text/plain": [
       "array([0, 1, 2, 3, 4, 5, 6, 7, 8, 9])"
      ]
     },
     "execution_count": 8,
     "metadata": {},
     "output_type": "execute_result"
    }
   ],
   "source": [
    "np.unique(y1)"
   ]
  },
  {
   "cell_type": "code",
   "execution_count": 9,
   "metadata": {},
   "outputs": [
    {
     "data": {
      "text/plain": [
       "array([0, 1, 2, 3, 4, 5, 6, 7, 8, 9])"
      ]
     },
     "execution_count": 9,
     "metadata": {},
     "output_type": "execute_result"
    }
   ],
   "source": [
    "np.unique(y2)"
   ]
  },
  {
   "cell_type": "markdown",
   "metadata": {
    "id": "wRfotA4OOCBr"
   },
   "source": [
    "## Proposed UMINT architecture\n",
    "![download.png](data:image/png;base64,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)"
   ]
  },
  {
   "cell_type": "code",
   "execution_count": 10,
   "metadata": {
    "id": "o3YMTZheMEH8"
   },
   "outputs": [],
   "source": [
    "# Original pair-wise distances\n",
    "dist_orig1 = np.square(euclidean_distances(x1, x1)).flatten()\n",
    "dist_orig2 = np.square(euclidean_distances(x2, x2)).flatten()"
   ]
  },
  {
   "cell_type": "code",
   "execution_count": 11,
   "metadata": {},
   "outputs": [
    {
     "name": "stdout",
     "output_type": "stream",
     "text": [
      "#Run:  1\n",
      "Epoch 1/25\n",
      "379/379 [==============================] - 20s 50ms/step - loss: 12.3906 - modality1_output_loss: 0.9017 - modality2_output_loss: 1.0956 - val_loss: 11.9561 - val_modality1_output_loss: 0.8821 - val_modality2_output_loss: 1.0918\n",
      "Epoch 2/25\n",
      "379/379 [==============================] - 18s 47ms/step - loss: 11.8408 - modality1_output_loss: 0.8758 - modality2_output_loss: 1.0854 - val_loss: 11.8454 - val_modality1_output_loss: 0.8789 - val_modality2_output_loss: 1.0894\n",
      "Epoch 3/25\n",
      "379/379 [==============================] - 17s 46ms/step - loss: 11.7837 - modality1_output_loss: 0.8728 - modality2_output_loss: 1.0828 - val_loss: 11.8281 - val_modality1_output_loss: 0.8761 - val_modality2_output_loss: 1.0884\n",
      "Epoch 4/25\n",
      "379/379 [==============================] - 18s 47ms/step - loss: 11.7610 - modality1_output_loss: 0.8707 - modality2_output_loss: 1.0812 - val_loss: 11.8250 - val_modality1_output_loss: 0.8757 - val_modality2_output_loss: 1.0879\n",
      "Epoch 5/25\n",
      "379/379 [==============================] - 18s 47ms/step - loss: 11.7561 - modality1_output_loss: 0.8692 - modality2_output_loss: 1.0804 - val_loss: 11.8185 - val_modality1_output_loss: 0.8740 - val_modality2_output_loss: 1.0876\n",
      "Epoch 6/25\n",
      "379/379 [==============================] - 18s 46ms/step - loss: 11.7422 - modality1_output_loss: 0.8677 - modality2_output_loss: 1.0794 - val_loss: 11.8175 - val_modality1_output_loss: 0.8730 - val_modality2_output_loss: 1.0875\n",
      "Epoch 7/25\n",
      "379/379 [==============================] - 18s 46ms/step - loss: 11.7342 - modality1_output_loss: 0.8668 - modality2_output_loss: 1.0786 - val_loss: 11.8227 - val_modality1_output_loss: 0.8732 - val_modality2_output_loss: 1.0875\n",
      "Epoch 8/25\n",
      "379/379 [==============================] - 19s 49ms/step - loss: 11.7281 - modality1_output_loss: 0.8662 - modality2_output_loss: 1.0779 - val_loss: 11.8163 - val_modality1_output_loss: 0.8719 - val_modality2_output_loss: 1.0873\n",
      "Epoch 9/25\n",
      "379/379 [==============================] - 18s 47ms/step - loss: 11.7159 - modality1_output_loss: 0.8656 - modality2_output_loss: 1.0771 - val_loss: 11.8156 - val_modality1_output_loss: 0.8714 - val_modality2_output_loss: 1.0873\n",
      "Epoch 10/25\n",
      "379/379 [==============================] - 18s 47ms/step - loss: 11.7108 - modality1_output_loss: 0.8649 - modality2_output_loss: 1.0766 - val_loss: 11.8182 - val_modality1_output_loss: 0.8712 - val_modality2_output_loss: 1.0874\n",
      "Epoch 11/25\n",
      "379/379 [==============================] - 18s 47ms/step - loss: 11.7064 - modality1_output_loss: 0.8645 - modality2_output_loss: 1.0761 - val_loss: 11.8201 - val_modality1_output_loss: 0.8707 - val_modality2_output_loss: 1.0875\n",
      "Epoch 12/25\n",
      "379/379 [==============================] - 17s 46ms/step - loss: 11.6992 - modality1_output_loss: 0.8642 - modality2_output_loss: 1.0755 - val_loss: 11.8188 - val_modality1_output_loss: 0.8706 - val_modality2_output_loss: 1.0874\n",
      "Epoch 13/25\n",
      "379/379 [==============================] - 18s 47ms/step - loss: 11.6917 - modality1_output_loss: 0.8635 - modality2_output_loss: 1.0748 - val_loss: 11.8194 - val_modality1_output_loss: 0.8702 - val_modality2_output_loss: 1.0875\n",
      "Epoch 14/25\n",
      "379/379 [==============================] - 17s 46ms/step - loss: 11.6857 - modality1_output_loss: 0.8631 - modality2_output_loss: 1.0743 - val_loss: 11.8223 - val_modality1_output_loss: 0.8703 - val_modality2_output_loss: 1.0877\n",
      "Epoch 15/25\n",
      "379/379 [==============================] - 18s 46ms/step - loss: 11.6804 - modality1_output_loss: 0.8627 - modality2_output_loss: 1.0737 - val_loss: 11.8250 - val_modality1_output_loss: 0.8702 - val_modality2_output_loss: 1.0878\n",
      "Epoch 16/25\n",
      "379/379 [==============================] - 17s 45ms/step - loss: 11.6785 - modality1_output_loss: 0.8621 - modality2_output_loss: 1.0733 - val_loss: 11.8289 - val_modality1_output_loss: 0.8698 - val_modality2_output_loss: 1.0880\n",
      "Epoch 17/25\n",
      "379/379 [==============================] - 17s 45ms/step - loss: 11.6723 - modality1_output_loss: 0.8618 - modality2_output_loss: 1.0728 - val_loss: 11.8302 - val_modality1_output_loss: 0.8695 - val_modality2_output_loss: 1.0882\n",
      "Epoch 18/25\n",
      "379/379 [==============================] - 17s 46ms/step - loss: 11.6686 - modality1_output_loss: 0.8614 - modality2_output_loss: 1.0723 - val_loss: 11.8294 - val_modality1_output_loss: 0.8694 - val_modality2_output_loss: 1.0881\n",
      "Epoch 19/25\n",
      "379/379 [==============================] - 17s 46ms/step - loss: 11.6616 - modality1_output_loss: 0.8610 - modality2_output_loss: 1.0718 - val_loss: 11.8348 - val_modality1_output_loss: 0.8693 - val_modality2_output_loss: 1.0885\n",
      "Epoch 20/25\n",
      "379/379 [==============================] - 17s 46ms/step - loss: 11.6621 - modality1_output_loss: 0.8609 - modality2_output_loss: 1.0715 - val_loss: 11.8359 - val_modality1_output_loss: 0.8692 - val_modality2_output_loss: 1.0885\n",
      "Epoch 21/25\n",
      "379/379 [==============================] - 17s 45ms/step - loss: 11.6563 - modality1_output_loss: 0.8599 - modality2_output_loss: 1.0710 - val_loss: 11.8390 - val_modality1_output_loss: 0.8690 - val_modality2_output_loss: 1.0886\n",
      "Epoch 22/25\n",
      "379/379 [==============================] - 18s 47ms/step - loss: 11.6536 - modality1_output_loss: 0.8598 - modality2_output_loss: 1.0706 - val_loss: 11.8386 - val_modality1_output_loss: 0.8688 - val_modality2_output_loss: 1.0888\n",
      "Epoch 23/25\n",
      "379/379 [==============================] - 18s 46ms/step - loss: 11.6478 - modality1_output_loss: 0.8591 - modality2_output_loss: 1.0702 - val_loss: 11.8440 - val_modality1_output_loss: 0.8686 - val_modality2_output_loss: 1.0890\n",
      "Epoch 24/25\n",
      "379/379 [==============================] - 17s 46ms/step - loss: 11.6504 - modality1_output_loss: 0.8592 - modality2_output_loss: 1.0700 - val_loss: 11.8520 - val_modality1_output_loss: 0.8686 - val_modality2_output_loss: 1.0894\n",
      "Epoch 25/25\n",
      "379/379 [==============================] - 17s 45ms/step - loss: 11.6424 - modality1_output_loss: 0.8585 - modality2_output_loss: 1.0694 - val_loss: 11.8489 - val_modality1_output_loss: 0.8684 - val_modality2_output_loss: 1.0894\n",
      "237/237 [==============================] - 1s 5ms/step\n",
      "237/237 [==============================] - 2s 9ms/step\n",
      "237/237 [==============================] - 2s 9ms/step\n",
      "237/237 [==============================] - 2s 9ms/step\n",
      "237/237 [==============================] - 2s 9ms/step\n"
     ]
    }
   ],
   "source": [
    "num_clusters = len(np.unique(y1))\n",
    "recons={}\n",
    "result_agl = {}\n",
    "result_km = {}\n",
    "seed = []\n",
    "\n",
    "for i in range(1):\n",
    "    print('#Run: ', i+1)\n",
    "    \n",
    "    sd = random.randint(0, 100)\n",
    "    seed.append(sd)\n",
    "    \n",
    "    x1_train, x1_test, x2_train, x2_test, z_train, z_test, y1_train, y1_test, y2_train, y2_test = train_test_split(x1, x2, z, y1, y2, test_size=0.2, random_state=sd)\n",
    "    #UMINT\n",
    "    MyEncoder, MyAE = umint.CombinedEncoder([x1_train, x2_train], [x1_test, x2_test], [128, 128], 64, 98, 0.0001, 0.001, 25, 16)\n",
    "    low = MyEncoder.predict([x1, x2])\n",
    "    clusters_agl = AgglomerativeClustering(n_clusters= num_clusters).fit_predict(low)\n",
    "    clusters_km = KMeans(n_clusters= num_clusters).fit_predict(low)\n",
    "    \n",
    "    # pair-wise distances\n",
    "    dist_EncoderRNA = np.square(euclidean_distances(MyAE.predict([x1, x2])[0], MyAE.predict([x1, x2])[0])).flatten()\n",
    "    dist_EncoderADT = np.square(euclidean_distances(MyAE.predict([x1, x2])[1], MyAE.predict([x1, x2])[1])).flatten()  \n",
    "    coef_RNA, p_RNA = pearsonr(dist_orig1, dist_EncoderRNA)\n",
    "    coef_ADT, p_ADT = pearsonr(dist_orig2, dist_EncoderADT)\n",
    "\n",
    "    \n",
    "    recons[i] = [coef_RNA, coef_ADT]\n",
    "    result_agl[i] = [adjusted_rand_score(y1[0], clusters_agl), fowlkes_mallows_score(y1[0], clusters_agl)]\n",
    "    result_km[i] = [adjusted_rand_score(y1[0], clusters_km), fowlkes_mallows_score(y1[0], clusters_km)]\n",
    "    \n",
    "    result_agl[i+1] = [adjusted_rand_score(y2[0], clusters_agl), fowlkes_mallows_score(y2[0], clusters_agl)]\n",
    "    result_km[i+1] = [adjusted_rand_score(y2[0], clusters_km), fowlkes_mallows_score(y2[0], clusters_km)]"
   ]
  },
  {
   "cell_type": "code",
   "execution_count": 12,
   "metadata": {},
   "outputs": [
    {
     "data": {
      "text/html": [
       "<div>\n",
       "<style scoped>\n",
       "    .dataframe tbody tr th:only-of-type {\n",
       "        vertical-align: middle;\n",
       "    }\n",
       "\n",
       "    .dataframe tbody tr th {\n",
       "        vertical-align: top;\n",
       "    }\n",
       "\n",
       "    .dataframe thead th {\n",
       "        text-align: right;\n",
       "    }\n",
       "</style>\n",
       "<table border=\"1\" class=\"dataframe\">\n",
       "  <thead>\n",
       "    <tr style=\"text-align: right;\">\n",
       "      <th></th>\n",
       "      <th>Pearson_RNA_UMINT</th>\n",
       "      <th>Pearson_ATAC_UMINT</th>\n",
       "    </tr>\n",
       "  </thead>\n",
       "  <tbody>\n",
       "    <tr>\n",
       "      <th>0</th>\n",
       "      <td>0.593067</td>\n",
       "      <td>0.127477</td>\n",
       "    </tr>\n",
       "  </tbody>\n",
       "</table>\n",
       "</div>"
      ],
      "text/plain": [
       "   Pearson_RNA_UMINT  Pearson_ATAC_UMINT\n",
       "0           0.593067            0.127477"
      ]
     },
     "execution_count": 12,
     "metadata": {},
     "output_type": "execute_result"
    }
   ],
   "source": [
    "r1 = [pd.DataFrame(np.ravel(recons[i])).T for i in range(len(recons))]\n",
    "rec1 = pd.concat(r1)\n",
    "rec1.index = range(len(recons))\n",
    "rec1.columns = ['Pearson_RNA_UMINT','Pearson_ATAC_UMINT']\n",
    "rec1"
   ]
  },
  {
   "cell_type": "code",
   "execution_count": 13,
   "metadata": {},
   "outputs": [
    {
     "data": {
      "text/html": [
       "<div>\n",
       "<style scoped>\n",
       "    .dataframe tbody tr th:only-of-type {\n",
       "        vertical-align: middle;\n",
       "    }\n",
       "\n",
       "    .dataframe tbody tr th {\n",
       "        vertical-align: top;\n",
       "    }\n",
       "\n",
       "    .dataframe thead th {\n",
       "        text-align: right;\n",
       "    }\n",
       "</style>\n",
       "<table border=\"1\" class=\"dataframe\">\n",
       "  <thead>\n",
       "    <tr style=\"text-align: right;\">\n",
       "      <th></th>\n",
       "      <th>ARI_Agglomaretive</th>\n",
       "      <th>FMI_Agglomaretive</th>\n",
       "    </tr>\n",
       "  </thead>\n",
       "  <tbody>\n",
       "    <tr>\n",
       "      <th>VsRNA_Celltype</th>\n",
       "      <td>0.755929</td>\n",
       "      <td>0.793081</td>\n",
       "    </tr>\n",
       "    <tr>\n",
       "      <th>VsATAC_Celltype</th>\n",
       "      <td>0.762865</td>\n",
       "      <td>0.799522</td>\n",
       "    </tr>\n",
       "  </tbody>\n",
       "</table>\n",
       "</div>"
      ],
      "text/plain": [
       "                 ARI_Agglomaretive  FMI_Agglomaretive\n",
       "VsRNA_Celltype            0.755929           0.793081\n",
       "VsATAC_Celltype           0.762865           0.799522"
      ]
     },
     "execution_count": 13,
     "metadata": {},
     "output_type": "execute_result"
    }
   ],
   "source": [
    "r2 = [pd.DataFrame(np.ravel(result_agl[i])).T for i in range(len(result_agl))]\n",
    "rec2 = pd.concat(r2)\n",
    "rec2.index = ['VsRNA_Celltype','VsATAC_Celltype']\n",
    "rec2.columns = ['ARI_Agglomaretive','FMI_Agglomaretive']\n",
    "rec2"
   ]
  },
  {
   "cell_type": "code",
   "execution_count": 14,
   "metadata": {},
   "outputs": [
    {
     "data": {
      "text/html": [
       "<div>\n",
       "<style scoped>\n",
       "    .dataframe tbody tr th:only-of-type {\n",
       "        vertical-align: middle;\n",
       "    }\n",
       "\n",
       "    .dataframe tbody tr th {\n",
       "        vertical-align: top;\n",
       "    }\n",
       "\n",
       "    .dataframe thead th {\n",
       "        text-align: right;\n",
       "    }\n",
       "</style>\n",
       "<table border=\"1\" class=\"dataframe\">\n",
       "  <thead>\n",
       "    <tr style=\"text-align: right;\">\n",
       "      <th></th>\n",
       "      <th>ARI_KMeans</th>\n",
       "      <th>FMI_KMeans</th>\n",
       "    </tr>\n",
       "  </thead>\n",
       "  <tbody>\n",
       "    <tr>\n",
       "      <th>VsRNA_Celltype</th>\n",
       "      <td>0.695087</td>\n",
       "      <td>0.741127</td>\n",
       "    </tr>\n",
       "    <tr>\n",
       "      <th>VsATAC_Celltype</th>\n",
       "      <td>0.718582</td>\n",
       "      <td>0.761819</td>\n",
       "    </tr>\n",
       "  </tbody>\n",
       "</table>\n",
       "</div>"
      ],
      "text/plain": [
       "                 ARI_KMeans  FMI_KMeans\n",
       "VsRNA_Celltype     0.695087    0.741127\n",
       "VsATAC_Celltype    0.718582    0.761819"
      ]
     },
     "execution_count": 14,
     "metadata": {},
     "output_type": "execute_result"
    }
   ],
   "source": [
    "r3 = [pd.DataFrame(np.ravel(result_km[i])).T for i in range(len(result_km))]\n",
    "rec3 = pd.concat(r3)\n",
    "rec3.index = ['VsRNA_Celltype','VsATAC_Celltype']\n",
    "rec3.columns = ['ARI_KMeans','FMI_KMeans']\n",
    "rec3"
   ]
  },
  {
   "cell_type": "code",
   "execution_count": 18,
   "metadata": {},
   "outputs": [],
   "source": [
    "# Run UMAP \n",
    "low_umap = umap.UMAP(n_components=2).fit_transform(low)"
   ]
  },
  {
   "cell_type": "code",
   "execution_count": 19,
   "metadata": {},
   "outputs": [],
   "source": [
    "lab1 = [rna_labels['celltype'][i] for i in range(rna_labels.shape[0])]\n",
    "lab2 = [atac_labels['celltype'][i] for i in range(atac_labels.shape[0])]\n",
    "\n",
    "col=['blue', 'green', 'orange', 'red', 'pink', 'gray', 'violet',\n",
    "    'cyan','lime', 'royalblue' , 'skyblue', 'olive', 'tomato',\n",
    "    'saddlebrown', 'sienna', 'navy', 'darkgreen', 'crimson']\n",
    "\n",
    "classes1 = list(np.unique(lab1))\n",
    "values1 = list(y1[0])\n",
    "colors1 = ListedColormap(col)\n",
    "\n",
    "classes2 = list(np.unique(lab2))\n",
    "values2 = list(y2[0])\n",
    "colors2 = ListedColormap(col)"
   ]
  },
  {
   "cell_type": "code",
   "execution_count": 25,
   "metadata": {},
   "outputs": [
    {
     "data": {
      "image/png": "[encoded data removed]",
      "text/plain": [
       "<Figure size 1200x500 with 2 Axes>"
      ]
     },
     "metadata": {},
     "output_type": "display_data"
    }
   ],
   "source": [
    "fig, axes = plt.subplots(1, 2, figsize=(12, 5))\n",
    "scatter = axes[0].scatter(low_umap[:,0],low_umap[:,1], c=values1, cmap=colors1, s=1)\n",
    "axes[0].legend(handles=scatter.legend_elements()[0], labels=classes1, bbox_to_anchor = (2.0, -0.1), ncol=5)\n",
    "scatter = axes[1].scatter(low_umap[:,0],low_umap[:,1], c=values2, cmap=colors2, s=1)"
   ]
  },
  {
   "cell_type": "code",
   "execution_count": null,
   "metadata": {},
   "outputs": [],
   "source": []
  }
 ],
 "metadata": {
  "accelerator": "GPU",
  "colab": {
   "collapsed_sections": [
    "s60Lr7rMGk21",
    "R3oN_CWxMFpM",
    "Qf3fk34QncND"
   ],
   "name": "Project2_scMultiOmics_Final.ipynb",
   "provenance": [],
   "toc_visible": true
  },
  "kernelspec": {
   "display_name": "Python 3 (ipykernel)",
   "language": "python",
   "name": "python3"
  },
  "language_info": {
   "codemirror_mode": {
    "name": "ipython",
    "version": 3
   },
   "file_extension": ".py",
   "mimetype": "text/x-python",
   "name": "python",
   "nbconvert_exporter": "python",
   "pygments_lexer": "ipython3",
   "version": "3.11.0"
  }
 },
 "nbformat": 4,
 "nbformat_minor": 1
}
