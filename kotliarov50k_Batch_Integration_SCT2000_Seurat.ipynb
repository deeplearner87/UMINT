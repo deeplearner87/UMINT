{
 "cells": [
  {
   "cell_type": "code",
   "execution_count": 1,
   "metadata": {},
   "outputs": [],
   "source": [
    "import warnings\n",
    "warnings.simplefilter(action='ignore', category=FutureWarning)\n",
    "\n",
    "import scanpy as sc\n",
    "import anndata as ad\n",
    "import numpy as np\n",
    "import pandas as pd\n",
    "import anndata2ri\n",
    "import gdown\n",
    "import scipy\n",
    "import scipy.io\n",
    "from rpy2.robjects import r\n",
    "\n",
    "anndata2ri.activate()"
   ]
  },
  {
   "cell_type": "code",
   "execution_count": 2,
   "metadata": {},
   "outputs": [
    {
     "name": "stderr",
     "output_type": "stream",
     "text": [
      "C:\\Users\\Chayan\\anaconda3\\lib\\site-packages\\rpy2\\robjects\\packages.py:366: UserWarning: The symbol 'quartz' is not in this R namespace/package.\n",
      "  warnings.warn(\n"
     ]
    }
   ],
   "source": [
    "%load_ext rpy2.ipython"
   ]
  },
  {
   "cell_type": "code",
   "execution_count": 4,
   "metadata": {
    "scrolled": true
   },
   "outputs": [],
   "source": [
    "%%R\n",
    "suppressPackageStartupMessages({\n",
    "    library(SingleCellExperiment)\n",
    "    library(Seurat)\n",
    "    library(SeuratDisk)\n",
    "    library(dplyr)\n",
    "})"
   ]
  },
  {
   "cell_type": "markdown",
   "metadata": {},
   "source": [
    "## Importing the data"
   ]
  },
  {
   "cell_type": "code",
   "execution_count": 7,
   "metadata": {},
   "outputs": [],
   "source": [
    "dir = 'E:/UMINTv2/Data/kotliarov2020/'"
   ]
  },
  {
   "cell_type": "code",
   "execution_count": 8,
   "metadata": {},
   "outputs": [
    {
     "data": {
      "text/plain": [
       "AnnData object with n_obs × n_vars = 52117 × 3999\n",
       "    obs: 'batch', 'cluster_level2', 'cluster_level3', 'sample', 'cell_type', 'n_genes', 'n_genes_by_counts', 'log1p_n_genes_by_counts', 'total_counts', 'log1p_total_counts', 'total_counts_mt', 'log1p_total_counts_mt', 'pct_counts_mt'\n",
       "    var: 'n_cells', 'mt', 'n_cells_by_counts', 'mean_counts', 'log1p_mean_counts', 'pct_dropout_by_counts', 'total_counts', 'log1p_total_counts', 'highly_variable', 'means', 'dispersions', 'dispersions_norm'\n",
       "    uns: 'batch_colors', 'cell_type_colors', 'cluster_level2_colors', 'cluster_level3_colors', 'neighbors', 'pca', 'sample_colors', 'umap'\n",
       "    obsm: 'X_pca', 'X_umap'\n",
       "    varm: 'PCs'\n",
       "    layers: 'count'\n",
       "    obsp: 'connectivities', 'distances'"
      ]
     },
     "execution_count": 8,
     "metadata": {},
     "output_type": "execute_result"
    }
   ],
   "source": [
    "adata = sc.read(dir+'expressions_hvg.h5ad')\n",
    "adata"
   ]
  },
  {
   "cell_type": "code",
   "execution_count": 9,
   "metadata": {},
   "outputs": [],
   "source": [
    "# Seurat categories have to be strings\n",
    "adata.obs.batch = adata.obs.batch.cat.rename_categories([\"1\", \"2\"])"
   ]
  },
  {
   "cell_type": "code",
   "execution_count": 10,
   "metadata": {},
   "outputs": [],
   "source": [
    "adata_ = ad.AnnData(adata.layers['count'])\n",
    "adata_.obs_names = adata.obs_names\n",
    "adata_.var_names = adata.var_names\n",
    "adata_.obs['cell_type'] = adata.obs['cell_type']\n",
    "adata_.obs['batch'] = adata.obs['batch']"
   ]
  },
  {
   "cell_type": "code",
   "execution_count": 11,
   "metadata": {},
   "outputs": [
    {
     "name": "stdout",
     "output_type": "stream",
     "text": [
      "An object of class Seurat \n",
      "3999 features across 52117 samples within 1 assay \n",
      "Active assay: originalexp (3999 features, 0 variable features)\n"
     ]
    }
   ],
   "source": [
    "%%R -i adata_\n",
    "rna = as.Seurat(adata_, counts='X', data=NULL)\n",
    "rna"
   ]
  },
  {
   "cell_type": "code",
   "execution_count": 12,
   "metadata": {},
   "outputs": [],
   "source": [
    "adata = sc.read(dir+'protein.h5ad')"
   ]
  },
  {
   "cell_type": "code",
   "execution_count": 13,
   "metadata": {},
   "outputs": [],
   "source": [
    "# Seurat categories have to be strings\n",
    "adata.obs.batch = adata.obs.batch.cat.rename_categories([\"1\", \"2\"])"
   ]
  },
  {
   "cell_type": "code",
   "execution_count": 14,
   "metadata": {},
   "outputs": [],
   "source": [
    "adata_ = ad.AnnData(adata.layers['count'])\n",
    "adata_.obs_names = adata.obs_names\n",
    "adata_.var_names = adata.var_names\n",
    "adata_.obs['cell_type'] = adata.obs['cell_type']\n",
    "adata_.obs['batch'] = adata.obs['batch']"
   ]
  },
  {
   "cell_type": "code",
   "execution_count": 15,
   "metadata": {},
   "outputs": [
    {
     "name": "stderr",
     "output_type": "stream",
     "text": [
      "R[write to console]: Warning:\n",
      "R[write to console]:  Feature names cannot have underscores ('_'), replacing with dashes ('-')\n",
      "\n"
     ]
    },
    {
     "name": "stdout",
     "output_type": "stream",
     "text": [
      "An object of class Seurat \n",
      "87 features across 52117 samples within 1 assay \n",
      "Active assay: originalexp (87 features, 0 variable features)\n"
     ]
    }
   ],
   "source": [
    "%%R -i adata_\n",
    "cite = as.Seurat(adata_, counts='X', data=NULL)\n",
    "cite"
   ]
  },
  {
   "cell_type": "markdown",
   "metadata": {},
   "source": [
    "# Integrate RNA batches"
   ]
  },
  {
   "cell_type": "code",
   "execution_count": 16,
   "metadata": {},
   "outputs": [
    {
     "name": "stderr",
     "output_type": "stream",
     "text": [
      "R[write to console]: Renaming default assay from originalexp to RNA\n",
      "\n",
      "R[write to console]: Calculating cell attributes from input UMI matrix: log_umi\n",
      "\n",
      "R[write to console]: Variance stabilizing transformation of count matrix of size 3214 by 27740\n",
      "\n",
      "R[write to console]: Model formula is y ~ log_umi\n",
      "\n",
      "R[write to console]: Get Negative Binomial regression parameters per gene\n",
      "\n",
      "R[write to console]: Using 2000 genes, 5000 cells\n",
      "\n"
     ]
    },
    {
     "name": "stdout",
     "output_type": "stream",
     "text": [
      "  |======================================================================| 100%\n"
     ]
    },
    {
     "name": "stderr",
     "output_type": "stream",
     "text": [
      "R[write to console]: There are 1 estimated thetas smaller than 1e-07 - will be set to 1e-07\n",
      "\n",
      "R[write to console]: Found 125 outliers - those will be ignored in fitting/regularization step\n",
      "\n",
      "\n",
      "R[write to console]: Second step: Get residuals using fitted parameters for 3214 genes\n",
      "\n"
     ]
    },
    {
     "name": "stdout",
     "output_type": "stream",
     "text": [
      "  |======================================================================| 100%\n"
     ]
    },
    {
     "name": "stderr",
     "output_type": "stream",
     "text": [
      "R[write to console]: Computing corrected count matrix for 3214 genes\n",
      "\n"
     ]
    },
    {
     "name": "stdout",
     "output_type": "stream",
     "text": [
      "  |======================================================================| 100%\n"
     ]
    },
    {
     "name": "stderr",
     "output_type": "stream",
     "text": [
      "R[write to console]: Calculating gene attributes\n",
      "\n",
      "R[write to console]: Wall clock passed: Time difference of 1.405404 mins\n",
      "\n",
      "R[write to console]: Determine variable features\n",
      "\n",
      "R[write to console]: Place corrected count matrix in counts slot\n",
      "\n",
      "R[write to console]: Centering data matrix\n",
      "\n",
      "  |                                                                            \n",
      "  |                                                                      |   0%\n",
      "  |                                                                            \n",
      "  |=======================                                               |  33%\n",
      "  |                                                                            \n",
      "  |===============================================                       |  67%\n",
      "  |                                                                            \n",
      "  |======================================================================| 100%\n",
      "R[write to console]: \n",
      "\n",
      "R[write to console]: Set default assay to SCT\n",
      "\n",
      "R[write to console]: Calculating cell attributes from input UMI matrix: log_umi\n",
      "\n",
      "R[write to console]: Variance stabilizing transformation of count matrix of size 3167 by 24377\n",
      "\n",
      "R[write to console]: Model formula is y ~ log_umi\n",
      "\n",
      "R[write to console]: Get Negative Binomial regression parameters per gene\n",
      "\n",
      "R[write to console]: Using 2000 genes, 5000 cells\n",
      "\n"
     ]
    },
    {
     "name": "stdout",
     "output_type": "stream",
     "text": [
      "  |======================================================================| 100%\n"
     ]
    },
    {
     "name": "stderr",
     "output_type": "stream",
     "text": [
      "R[write to console]: Found 121 outliers - those will be ignored in fitting/regularization step\n",
      "\n",
      "\n",
      "R[write to console]: Second step: Get residuals using fitted parameters for 3167 genes\n",
      "\n"
     ]
    },
    {
     "name": "stdout",
     "output_type": "stream",
     "text": [
      "  |======================================================================| 100%\n"
     ]
    },
    {
     "name": "stderr",
     "output_type": "stream",
     "text": [
      "R[write to console]: Computing corrected count matrix for 3167 genes\n",
      "\n"
     ]
    },
    {
     "name": "stdout",
     "output_type": "stream",
     "text": [
      "  |======================================================================| 100%\n"
     ]
    },
    {
     "name": "stderr",
     "output_type": "stream",
     "text": [
      "R[write to console]: Calculating gene attributes\n",
      "\n",
      "R[write to console]: Wall clock passed: Time difference of 1.399621 mins\n",
      "\n",
      "R[write to console]: Determine variable features\n",
      "\n",
      "R[write to console]: Place corrected count matrix in counts slot\n",
      "\n",
      "R[write to console]: Centering data matrix\n",
      "\n",
      "  |                                                                            \n",
      "  |                                                                      |   0%\n",
      "  |                                                                            \n",
      "  |=======================                                               |  33%\n",
      "  |                                                                            \n",
      "  |===============================================                       |  67%\n",
      "  |                                                                            \n",
      "  |======================================================================| 100%\n",
      "R[write to console]: \n",
      "\n",
      "R[write to console]: Set default assay to SCT\n",
      "\n"
     ]
    },
    {
     "name": "stdout",
     "output_type": "stream",
     "text": [
      "  |                                                  | 0 % ~calculating   |+++++++++++++++++++++++++                         | 50% ~13s           |++++++++++++++++++++++++++++++++++++++++++++++++++| 100% elapsed=23s  \n"
     ]
    },
    {
     "name": "stderr",
     "output_type": "stream",
     "text": [
      "R[write to console]: Finding all pairwise anchors\n",
      "\n"
     ]
    },
    {
     "name": "stdout",
     "output_type": "stream",
     "text": [
      "  |                                                  | 0 % ~calculating  "
     ]
    },
    {
     "name": "stderr",
     "output_type": "stream",
     "text": [
      "R[write to console]: Running CCA\n",
      "\n",
      "R[write to console]: Merging objects\n",
      "\n",
      "R[write to console]: Finding neighborhoods\n",
      "\n",
      "R[write to console]: Finding anchors\n",
      "\n",
      "R[write to console]: \tFound 53861 anchors\n",
      "\n",
      "R[write to console]: Filtering anchors\n",
      "\n",
      "R[write to console]: \tRetained 30903 anchors\n",
      "\n"
     ]
    },
    {
     "name": "stdout",
     "output_type": "stream",
     "text": [
      "  |++++++++++++++++++++++++++++++++++++++++++++++++++| 100% elapsed=03h 38m 44s\n"
     ]
    },
    {
     "name": "stderr",
     "output_type": "stream",
     "text": [
      "R[write to console]: Merging dataset 2 into 1\n",
      "\n",
      "R[write to console]: Extracting anchors for merged samples\n",
      "\n",
      "R[write to console]: Finding integration vectors\n",
      "\n",
      "R[write to console]: Finding integration vector weights\n",
      "\n",
      "R[write to console]: 0%   10   20   30   40   50   60   70   80   90   100%\n",
      "\n",
      "R[write to console]: [----|----|----|----|----|----|----|----|----|----|\n",
      "\n",
      "R[write to console]: *\n",
      "R[write to console]: *\n",
      "R[write to console]: *\n",
      "R[write to console]: *\n",
      "R[write to console]: *\n",
      "R[write to console]: *\n",
      "R[write to console]: *\n",
      "R[write to console]: *\n",
      "R[write to console]: *\n",
      "R[write to console]: *\n",
      "R[write to console]: *\n",
      "R[write to console]: *\n",
      "R[write to console]: *\n",
      "R[write to console]: *\n",
      "R[write to console]: *\n",
      "R[write to console]: *\n",
      "R[write to console]: *\n",
      "R[write to console]: *\n",
      "R[write to console]: *\n",
      "R[write to console]: *\n",
      "R[write to console]: *\n",
      "R[write to console]: *\n",
      "R[write to console]: *\n",
      "R[write to console]: *\n",
      "R[write to console]: *\n",
      "R[write to console]: *\n",
      "R[write to console]: *\n",
      "R[write to console]: *\n",
      "R[write to console]: *\n",
      "R[write to console]: *\n",
      "R[write to console]: *\n",
      "R[write to console]: *\n",
      "R[write to console]: *\n",
      "R[write to console]: *\n",
      "R[write to console]: *\n",
      "R[write to console]: *\n",
      "R[write to console]: *\n",
      "R[write to console]: *\n",
      "R[write to console]: *\n",
      "R[write to console]: *\n",
      "R[write to console]: *\n",
      "R[write to console]: *\n",
      "R[write to console]: *\n",
      "R[write to console]: *\n",
      "R[write to console]: *\n",
      "R[write to console]: *\n",
      "R[write to console]: *\n",
      "R[write to console]: *\n",
      "R[write to console]: *\n",
      "R[write to console]: *\n",
      "R[write to console]: |\n",
      "\n",
      "R[write to console]: Integrating data\n",
      "\n",
      "R[write to console]: PC_ 1 \n",
      "Positive:  S100A9, LYZ, S100A8, FTL, S100A12, RP11-1143G9.4, FCN1, CST3, FTH1, VCAN \n",
      "\t   CD14, MNDA, LST1, AIF1, CSTA, TYROBP, MS4A6A, LGALS2, TYMP, FOS \n",
      "\t   SERPINA1, S100A6, CFD, AP1S2, RGS2, CD36, CD74, GPX1, RETN, IL8 \n",
      "Negative:  GNLY, NKG7, CCL5, GZMB, PRF1, GZMA, CST7, FGFBP2, KLRB1, GZMH \n",
      "\t   CTSW, KLRF1, SPON2, CMC1, KLRD1, HOPX, CCL4, CLIC3, CD247, CD7 \n",
      "\t   GZMM, RPS27, B2M, HLA-B, MATK, IL2RB, DUSP2, RPS29, LYAR, IL32 \n",
      "PC_ 2 \n",
      "Positive:  GNLY, NKG7, GZMB, PRF1, CST7, FGFBP2, S100A9, GZMA, CCL5, S100A8 \n",
      "\t   KLRF1, LYZ, SPON2, GZMH, CTSW, TYROBP, CLIC3, KLRD1, CCL4, CMC1 \n",
      "\t   HOPX, KLRB1, ACTB, FCGR3A, S100A12, FCER1G, S100A4, RP11-1143G9.4, FTL, MYOM2 \n",
      "Negative:  CD74, RPS27, CD79A, RPL21, RPL34, RPS8, RPS18, RPS6, RPL32, HLA-DRA \n",
      "\t   MS4A1, RPS12, RPS29, TCL1A, CD79B, LTB, BANK1, HLA-DQB1, LINC00926, BIRC3 \n",
      "\t   HLA-DPB1, CCR7, IGLL5, VPREB3, HLA-DRB1, HLA-DPA1, PPAPDC1B, HLA-DQA1, FCER2, IGJ \n",
      "PC_ 3 \n",
      "Positive:  CD74, HLA-DRA, CD79A, MS4A1, TCL1A, CD79B, HLA-DQB1, HLA-DRB1, HLA-DPB1, GNLY \n",
      "\t   HLA-DPA1, BANK1, HLA-DQA1, LINC00926, MEF2C, GZMB, IGLL5, NKG7, IGJ, IRF8 \n",
      "\t   VPREB3, FCER2, HLA-DMA, PPAPDC1B, CD22, HVCN1, HLA-DMB, PRF1, HLA-DRB5, ADAM28 \n",
      "Negative:  RPL34, RPS12, RPS6, RPL32, RPS27, RPL21, RPS29, RPS18, CCR7, IL32 \n",
      "\t   CD8B, RPS8, PASK, TSHZ2, NGFRAP1, GZMK, ITM2A, RP11-291B21.2, ADTRP, B2M \n",
      "\t   SCGB3A1, S100A8, S100A9, GATA3, RORA, CD8A, MT1X, MYC, S100A4, S100A12 \n",
      "PC_ 4 \n",
      "Positive:  FCGR3A, LST1, IFITM3, MS4A7, CDKN1C, FTH1, RP11-290F20.3, HES4, FTL, AIF1 \n",
      "\t   SERPINA1, LRRC25, ACTB, LILRB2, RHOC, HMOX1, FCER1G, LYPD2, HCK, CFD \n",
      "\t   CD68, MAFB, C1QA, TESC, CST3, PILRA, SPI1, SAT1, VMO1, ABI3 \n",
      "Negative:  S100A8, S100A9, S100A12, LYZ, RP11-1143G9.4, VCAN, CD14, IL8, FOS, MGST1 \n",
      "\t   CD79A, MS4A1, CCL5, RBP7, GNLY, MNDA, CD36, TCL1A, GZMK, FOLR3 \n",
      "\t   QPCT, CSF3R, KLRB1, NCF1, RETN, CES1, SLC2A3, C19orf59, IGLL5, CYP1B1 \n",
      "PC_ 5 \n",
      "Positive:  GZMK, CCL5, KLRB1, DUSP2, LYAR, KLRG1, S100A4, CMC1, GZMH, AC092580.4 \n",
      "\t   GZMA, IL32, CD79A, MS4A1, CD79B, SLC4A10, CD8A, HLA-DRA, PRDM1, LAG3 \n",
      "\t   MT-CO1, LINC00152, HLA-DRB1, CST7, MT2A, HLA-DPB1, FTL, PIK3R1, JUN, HLA-DPA1 \n",
      "Negative:  GZMB, CLIC3, IGJ, IRF7, ITM2C, LILRA4, SERPINF1, PLD4, IRF8, DERL3 \n",
      "\t   PPP1R14B, TCF4, LRRC26, UGCG, SPON2, TPM2, PTCRA, SCT, PTGDS, CCDC50 \n",
      "\t   PTPRS, SMPD3, MZB1, PRF1, IL3RA, ALOX5AP, DNASE1L3, FCER1A, CLEC4C, LINC00996 \n",
      "\n"
     ]
    }
   ],
   "source": [
    "%%R\n",
    "rna <- RenameAssays(rna, originalexp = 'RNA')\n",
    "rna.list <- SplitObject(rna, split.by = \"batch\")\n",
    "rna.list <- lapply(X = rna.list, FUN = SCTransform, variable.features.n = 2000)\n",
    "features <- SelectIntegrationFeatures(object.list = rna.list, nfeatures = 2000)\n",
    "rna.list <- PrepSCTIntegration(object.list = rna.list, anchor.features = features)\n",
    "\n",
    "anchors <- FindIntegrationAnchors(object.list = rna.list, normalization.method = \"SCT\", \n",
    "    anchor.features = features)\n",
    "integrated_rna <- IntegrateData(anchorset = anchors, normalization.method = \"SCT\")\n",
    "\n",
    "integrated_rna <- RunPCA(integrated_rna)"
   ]
  },
  {
   "cell_type": "markdown",
   "metadata": {},
   "source": [
    "# Integrate ADT batches"
   ]
  },
  {
   "cell_type": "code",
   "execution_count": 17,
   "metadata": {},
   "outputs": [
    {
     "name": "stderr",
     "output_type": "stream",
     "text": [
      "R[write to console]: Renaming default assay from originalexp to ADT\n",
      "\n",
      "R[write to console]: Warning in irlba(A = t(x = object), nv = npcs, ...) :\n",
      "R[write to console]: \n",
      " \n",
      "R[write to console]:  You're computing too large a percentage of total singular values, use a standard svd instead.\n",
      "\n",
      "R[write to console]: Warning in irlba(A = t(x = object), nv = npcs, ...) :\n",
      "R[write to console]: \n",
      " \n",
      "R[write to console]:  You're computing too large a percentage of total singular values, use a standard svd instead.\n",
      "\n"
     ]
    },
    {
     "name": "stdout",
     "output_type": "stream",
     "text": [
      "  |                                                  | 0 % ~calculating   |++++++++++++++++++++++++++++++++++++++++++++++++++| 100% elapsed=24s  \n"
     ]
    },
    {
     "name": "stderr",
     "output_type": "stream",
     "text": [
      "R[write to console]: Merging dataset 2 into 1\n",
      "\n",
      "R[write to console]: Extracting anchors for merged samples\n",
      "\n",
      "R[write to console]: Finding integration vectors\n",
      "\n",
      "R[write to console]: Finding integration vector weights\n",
      "\n",
      "R[write to console]: 0%   10   20   30   40   50   60   70   80   90   100%\n",
      "\n",
      "R[write to console]: [----|----|----|----|----|----|----|----|----|----|\n",
      "\n",
      "R[write to console]: *\n",
      "R[write to console]: *\n",
      "R[write to console]: *\n",
      "R[write to console]: *\n",
      "R[write to console]: *\n",
      "R[write to console]: *\n",
      "R[write to console]: *\n",
      "R[write to console]: *\n",
      "R[write to console]: *\n",
      "R[write to console]: *\n",
      "R[write to console]: *\n",
      "R[write to console]: *\n",
      "R[write to console]: *\n",
      "R[write to console]: *\n",
      "R[write to console]: *\n",
      "R[write to console]: *\n",
      "R[write to console]: *\n",
      "R[write to console]: *\n",
      "R[write to console]: *\n",
      "R[write to console]: *\n",
      "R[write to console]: *\n",
      "R[write to console]: *\n",
      "R[write to console]: *\n",
      "R[write to console]: *\n",
      "R[write to console]: *\n",
      "R[write to console]: *\n",
      "R[write to console]: *\n",
      "R[write to console]: *\n",
      "R[write to console]: *\n",
      "R[write to console]: *\n",
      "R[write to console]: *\n",
      "R[write to console]: *\n",
      "R[write to console]: *\n",
      "R[write to console]: *\n",
      "R[write to console]: *\n",
      "R[write to console]: *\n",
      "R[write to console]: *\n",
      "R[write to console]: *\n",
      "R[write to console]: *\n",
      "R[write to console]: *\n",
      "R[write to console]: *\n",
      "R[write to console]: *\n",
      "R[write to console]: *\n",
      "R[write to console]: *\n",
      "R[write to console]: *\n",
      "R[write to console]: *\n",
      "R[write to console]: *\n",
      "R[write to console]: *\n",
      "R[write to console]: *\n",
      "R[write to console]: *\n",
      "R[write to console]: |\n",
      "\n",
      "R[write to console]: Integrating data\n",
      "\n",
      "R[write to console]: Warning in irlba(A = t(x = object), nv = npcs, ...) :\n",
      "R[write to console]: \n",
      " \n",
      "R[write to console]:  You're computing too large a percentage of total singular values, use a standard svd instead.\n",
      "\n"
     ]
    }
   ],
   "source": [
    "%%R\n",
    "cite <- RenameAssays(cite, originalexp ='ADT')\n",
    "\n",
    "cite.list <- SplitObject(cite, split.by = \"batch\")\n",
    "\n",
    "cite.list <- lapply(X = cite.list, FUN = function(x) {\n",
    "    VariableFeatures(x) <- rownames(x[[\"ADT\"]])\n",
    "    x <- NormalizeData(x, normalization.method = 'CLR', margin = 2, verbose=FALSE)\n",
    "})\n",
    "\n",
    "features <- SelectIntegrationFeatures(object.list = cite.list)\n",
    "\n",
    "cite.list <- lapply(X = cite.list, FUN = function(x) {\n",
    "    x <- ScaleData(x, features = features, verbose=FALSE)\n",
    "    x <- RunPCA(x, features = features, reduction.name = \"pca\", verbose=FALSE)\n",
    "})\n",
    "\n",
    "anchors <- FindIntegrationAnchors(object.list = cite.list, reduction = \"rpca\", \n",
    "    dims = 1:30, verbose=FALSE)\n",
    "integrated_adt <- IntegrateData(anchorset = anchors, dims = 1:30)\n",
    "\n",
    "integrated_adt <- ScaleData(integrated_adt, verbose=FALSE)\n",
    "integrated_adt <- RunPCA(integrated_adt, reduction.name = \"apca\", verbose=FALSE)"
   ]
  },
  {
   "cell_type": "markdown",
   "metadata": {},
   "source": [
    "# Extracting batch integrated data"
   ]
  },
  {
   "cell_type": "code",
   "execution_count": 18,
   "metadata": {},
   "outputs": [],
   "source": [
    "%%R\n",
    "#data preparation for UMINT\\n\",\n",
    "rna_data <- as.matrix(GetAssayData(integrated_rna, slot = \"scale.data\", assay=\"integrated\"))\n",
    "write.csv(rna_data, 'E:/UMINTv2/Data/kotliarov50k/kotliarov50k_rna_scaled_batch_integrated.csv')\n",
    "\n",
    "adt_data <- as.matrix(GetAssayData(integrated_adt, slot = \"scale.data\", assay=\"integrated\"))\n",
    "write.csv(adt_data, 'E:/UMINTv2/Data/kotliarov50k/kotliarov50k_adt_scaled_batch_integrated.csv')"
   ]
  }
 ],
 "metadata": {
  "kernelspec": {
   "display_name": "Python 3 (ipykernel)",
   "language": "python",
   "name": "python3"
  },
  "language_info": {
   "codemirror_mode": {
    "name": "ipython",
    "version": 3
   },
   "file_extension": ".py",
   "mimetype": "text/x-python",
   "name": "python",
   "nbconvert_exporter": "python",
   "pygments_lexer": "ipython3",
   "version": "3.10.1"
  }
 },
 "nbformat": 4,
 "nbformat_minor": 4
}
